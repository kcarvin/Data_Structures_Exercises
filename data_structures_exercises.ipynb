{
 "cells": [
  {
   "cell_type": "markdown",
   "metadata": {},
   "source": [
    "**DATA STRUCTURES**"
   ]
  },
  {
   "cell_type": "markdown",
   "metadata": {},
   "source": [
    "Exercise 1"
   ]
  },
  {
   "cell_type": "markdown",
   "metadata": {},
   "source": [
    "Write a function solve_quadratic, that returns both solutions of a generic quadratic as a pair (2-tuple) when the coefficients are given as parameters. It should work like this:\n",
    "\n",
    "print(solve_quadratic(1,-3,2))\n",
    "\n",
    "(2.0,1.0)\n",
    "\n",
    "print(solve_quadratic(1,2,1))\n",
    "\n",
    "(-1.0,-1.0)"
   ]
  },
  {
   "cell_type": "code",
   "execution_count": 2,
   "metadata": {},
   "outputs": [
    {
     "name": "stdout",
     "output_type": "stream",
     "text": [
      "2.0 1.0\n"
     ]
    }
   ],
   "source": [
    "a = 1\n",
    "b = -3\n",
    "c = 2\n",
    "x = (-b + (b**2 - (4*a*c))**.5)/(2*a)\n",
    "x2 = (-b - (b**2 - (4*a*c))**.5)/(2*a)\n",
    "print(x, x2)"
   ]
  },
  {
   "cell_type": "code",
   "execution_count": 3,
   "metadata": {},
   "outputs": [
    {
     "name": "stdout",
     "output_type": "stream",
     "text": [
      "-1.0 -1.0\n"
     ]
    }
   ],
   "source": [
    "d = 1\n",
    "e = 2\n",
    "f = 1\n",
    "y = (-e + (e**2 - (4*d*f))**.5)/(2*d)\n",
    "y2 = (-e + (e**2 - (4*d*f))**.5)/(2*d)\n",
    "print(y, y2)\n"
   ]
  },
  {
   "cell_type": "markdown",
   "metadata": {},
   "source": [
    "Exercise 2"
   ]
  },
  {
   "cell_type": "markdown",
   "metadata": {},
   "source": [
    "Get a space-separated list of integers from the user, create a tuple of those integers. Then compute and print the result of hash(tuple)."
   ]
  },
  {
   "cell_type": "code",
   "execution_count": 11,
   "metadata": {},
   "outputs": [
    {
     "name": "stdout",
     "output_type": "stream",
     "text": [
      "-6644214454873602895\n"
     ]
    }
   ],
   "source": [
    "# User inputs 2 then inputs 1\n",
    "n = int(input())\n",
    "t = tuple(map(int, input().split()))\n",
    "print(hash(t))"
   ]
  },
  {
   "cell_type": "markdown",
   "metadata": {},
   "source": [
    "Exercise 3"
   ]
  },
  {
   "cell_type": "markdown",
   "metadata": {},
   "source": [
    "Take the following two lists. Create a third list by picking a odd-index elements from the first list and even-index elements from the second.\n",
    "\n",
    "listOne = [3, 6, 9, 12, 15, 18, 21]\n",
    "\n",
    "listTwo = [4, 8, 12, 16, 20, 24, 28]\n"
   ]
  },
  {
   "cell_type": "code",
   "execution_count": 47,
   "metadata": {},
   "outputs": [
    {
     "name": "stdout",
     "output_type": "stream",
     "text": [
      "[3, 9, 15, 21, 4, 8, 12, 16, 20, 24, 28]\n"
     ]
    }
   ],
   "source": [
    "# listThree will contain odd numbers from listOne and entire listTwo\n",
    "listOne = [3, 6, 9, 12, 15, 18, 21]\n",
    "listTwo = [4, 8, 12, 16, 20, 24, 28]\n",
    "listThree = [3,9,15,21] + listTwo\n",
    "print(listThree)"
   ]
  },
  {
   "cell_type": "markdown",
   "metadata": {},
   "source": [
    "Exercise 4"
   ]
  },
  {
   "cell_type": "markdown",
   "metadata": {},
   "source": [
    "Take the following list. Slice it into three equal chunks and reverse each list.\n",
    "\n",
    "sampleList = [11, 45, 8, 23, 14, 12, 78, 45, 89]\n"
   ]
  },
  {
   "cell_type": "code",
   "execution_count": 61,
   "metadata": {},
   "outputs": [
    {
     "name": "stdout",
     "output_type": "stream",
     "text": [
      "[78, 45, 89]\n",
      "[23, 14, 12]\n",
      "[11, 45, 8]\n"
     ]
    }
   ],
   "source": [
    "# Utilize reverse code to place the result in another list without modifying the original\n",
    "# Research lambda function(Data Science Programming All-In-One for dummies)\n",
    "sampleList = [11, 45, 8, 23, 14, 12, 78, 45, 89]\n",
    "print(sampleList[-3:])\n",
    "print(sampleList[-6:-3])\n",
    "print(sampleList[-9:-6])\n",
    "#reverse = lambda sampleList: sampleList[::-1]\n",
    "#b = reverse(sampleList)\n",
    "#print(b)\n"
   ]
  },
  {
   "cell_type": "markdown",
   "metadata": {},
   "source": [
    "Exercise 5"
   ]
  },
  {
   "cell_type": "markdown",
   "metadata": {},
   "source": [
    "Iterate through a given list and check if a given element already exists in a dictionary as a key’s value. If not, delete it from the list.\n",
    "\n",
    "rollNumber = [47, 64, 69, 37, 76, 83, 95, 97]\n",
    "\n",
    "sampleDict ={'Zach':47, 'Emma':69, 'Kelly':76, 'Jason':97}\n"
   ]
  },
  {
   "cell_type": "code",
   "execution_count": 7,
   "metadata": {},
   "outputs": [
    {
     "name": "stdout",
     "output_type": "stream",
     "text": [
      "dict_keys(['Zach', 'Emma', 'Kelly', 'Jason'])\n",
      "dict_values([47, 69, 76, 97])\n",
      "dict_items([('Zach', 47), ('Emma', 69), ('Kelly', 76), ('Jason', 97)])\n",
      "47\n",
      "[64, 69, 37, 76, 83, 95, 97]\n",
      "69\n",
      "[64, 37, 76, 83, 95, 97]\n",
      "76\n",
      "[64, 37, 83, 95, 97]\n",
      "97\n",
      "[64, 37, 83, 95]\n"
     ]
    }
   ],
   "source": [
    "rollNumber = [47, 64, 69, 37, 76, 83, 95, 97]\n",
    "sampleDict ={'Zach':47, 'Emma':69, 'Kelly':76, 'Jason':97}\n",
    "sampleDict_keys = sampleDict.keys()\n",
    "print(sampleDict_keys)\n",
    "sampleDict_values = sampleDict.values()\n",
    "print(sampleDict_values)\n",
    "sampleDict_items = sampleDict.items()\n",
    "print(sampleDict_items)\n",
    "for v in sampleDict.values():\n",
    "    print(v)\n",
    "    rollNumber.remove(v)\n",
    "    print(rollNumber)\n"
   ]
  }
 ],
 "metadata": {
  "kernelspec": {
   "display_name": "base",
   "language": "python",
   "name": "python3"
  },
  "language_info": {
   "codemirror_mode": {
    "name": "ipython",
    "version": 3
   },
   "file_extension": ".py",
   "mimetype": "text/x-python",
   "name": "python",
   "nbconvert_exporter": "python",
   "pygments_lexer": "ipython3",
   "version": "3.9.7"
  },
  "orig_nbformat": 4
 },
 "nbformat": 4,
 "nbformat_minor": 2
}
